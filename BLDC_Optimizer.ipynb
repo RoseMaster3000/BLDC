{
 "cells": [
  {
   "cell_type": "code",
   "execution_count": null,
   "id": "f14d370b-c170-415d-93ef-ff2917e3bb70",
   "metadata": {},
   "outputs": [
    {
     "name": "stdout",
     "output_type": "stream",
     "text": [
      "Starting MATLAB engine...\n",
      "MATLAB engine started.\n",
      "Starting optimization with 10 generations.\n",
      "Worker thread starting optimization...\n",
      "Number of Speed Points (NumPts): 4\n",
      "Calculated Number of Objectives (NumObj_): 5\n",
      "=================================================================================\n",
      "n_gen  |  n_eval  |     cv_min    |     cv_avg    |     f_avg     |     f_min    \n",
      "=================================================================================\n",
      "     1 |       10 |  0.000000E+00 |  1.537649E+01 | -5.693198E+04 | -5.711036E+04\n",
      "     2 |       20 |  0.000000E+00 |  0.000000E+00 | -5.717096E+04 | -5.678028E+04\n",
      "     3 |       30 |  0.000000E+00 |  0.000000E+00 | -5.774323E+04 | -5.678028E+04\n",
      "     4 |       40 |  0.000000E+00 |  0.000000E+00 | -5.780500E+04 | -5.678028E+04\n",
      "     5 |       50 |  0.000000E+00 |  0.000000E+00 | -5.779327E+04 | -5.846622E+04\n",
      "     6 |       60 |  0.000000E+00 |  0.000000E+00 | -5.783487E+04 | -5.678028E+04\n",
      "     7 |       70 |  0.000000E+00 |  0.000000E+00 | -5.808983E+04 | -5.678028E+04\n",
      "     8 |       80 |  0.000000E+00 |  0.000000E+00 | -5.793917E+04 | -5.767979E+04\n",
      "     9 |       90 |  0.000000E+00 |  0.000000E+00 | -5.800319E+04 | -5.769028E+04\n",
      "    10 |      100 |  0.000000E+00 |  0.000000E+00 | -5.822342E+04 | -5.750483E+04\n",
      "Worker thread finished optimization normally.\n",
      "Optimization finished successfully. Results received in GUI.\n",
      "Optimization thread has finished. Performing cleanup.\n",
      "Cleaning up optimization worker and thread references.\n",
      "Attempting to automatically save optimization results...\n"
     ]
    }
   ],
   "source": [
    "from MainWindow import run\n",
    "run()"
   ]
  },
  {
   "cell_type": "code",
   "execution_count": null,
   "id": "2a9a83fa-3860-4f96-b7da-10006d5913ff",
   "metadata": {},
   "outputs": [],
   "source": []
  }
 ],
 "metadata": {
  "kernelspec": {
   "display_name": "Python [conda env:py3p10env] *",
   "language": "python",
   "name": "conda-env-py3p10env-py"
  },
  "language_info": {
   "codemirror_mode": {
    "name": "ipython",
    "version": 3
   },
   "file_extension": ".py",
   "mimetype": "text/x-python",
   "name": "python",
   "nbconvert_exporter": "python",
   "pygments_lexer": "ipython3",
   "version": "3.10.15"
  }
 },
 "nbformat": 4,
 "nbformat_minor": 5
}
